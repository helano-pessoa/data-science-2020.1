{
 "cells": [
  {
   "cell_type": "code",
   "execution_count": null,
   "metadata": {},
   "outputs": [],
   "source": [
    "fig = go.Figure()\n",
    "\n",
    "fig.update_layout(title='Dados')\n",
    "fig.add_trace(go.Scatter(x=dataset[dataset['y']==-1]['x1'], y=dataset[dataset['y']==-1]['x2'],\n",
    "                    mode='markers',\n",
    "                    name='class -1'))\n",
    "fig.add_trace(go.Scatter(x=dataset[dataset['y']==1]['x1'], y=dataset[dataset['y']==1]['x2'],\n",
    "                    mode='markers',\n",
    "                    name='class 1'))\n",
    "\n",
    "fig.show()"
   ]
  }
 ],
 "metadata": {
  "kernelspec": {
   "display_name": "Python 3",
   "language": "python",
   "name": "python3"
  },
  "language_info": {
   "codemirror_mode": {
    "name": "ipython",
    "version": 3
   },
   "file_extension": ".py",
   "mimetype": "text/x-python",
   "name": "python",
   "nbconvert_exporter": "python",
   "pygments_lexer": "ipython3",
   "version": "3.7.8"
  }
 },
 "nbformat": 4,
 "nbformat_minor": 4
}
