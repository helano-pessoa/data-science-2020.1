{
 "cells": [
  {
   "cell_type": "markdown",
   "metadata": {},
   "source": [
    "# Trabalho 2 - Ciência de Dados\n",
    "\n",
    "#### Equipe: \n",
    "\n",
    "- Benedikt Reppin - 501237\n",
    "- Natália Rios - 408864\n",
    "- Helano Pessoa - 398861"
   ]
  },
  {
   "cell_type": "code",
   "execution_count": 1,
   "metadata": {},
   "outputs": [],
   "source": [
    "# Imports\n",
    "import numpy as np\n",
    "import pandas as pd\n",
    "import matplotlib.pyplot as plt\n",
    "from sklearn import datasets\n",
    "from sklearn.model_selection import KFold\n",
    "from sklearn.neighbors import KNeighborsClassifier\n",
    "from sklearn.metrics import precision_score, recall_score, f1_score"
   ]
  },
  {
   "cell_type": "markdown",
   "metadata": {},
   "source": [
    "## Implementação de um Classificador Perceptron"
   ]
  },
  {
   "cell_type": "code",
   "execution_count": 2,
   "metadata": {},
   "outputs": [],
   "source": [
    "# Perceptron disponibilizado pelo Professor\n",
    "class Perceptron(object):\n",
    "    \"\"\"Perceptron classifier.\n",
    "\n",
    "    Parameters\n",
    "    ------------\n",
    "    eta : float\n",
    "      Learning rate (between 0.0 and 1.0)\n",
    "    n_iter : int\n",
    "      Passes over the training dataset.\n",
    "    random_state : int\n",
    "      Random number generator seed for random weight\n",
    "      initialization.\n",
    "\n",
    "    Attributes\n",
    "    -----------\n",
    "    w_ : 1d-array\n",
    "      Weights after fitting.\n",
    "    errors_ : list\n",
    "      Number of misclassifications (updates) in each epoch.\n",
    "\n",
    "    \"\"\"\n",
    "    def __init__(self, eta=0.01, n_iter=50, random_state=1):\n",
    "        self.eta = eta\n",
    "        self.n_iter = n_iter\n",
    "        self.random_state = random_state\n",
    "\n",
    "    def fit(self, X, y):\n",
    "        \"\"\"Fit training data.\n",
    "\n",
    "        Parameters\n",
    "        ----------\n",
    "        X : {array-like}, shape = [n_examples, n_features]\n",
    "          Training vectors, where n_examples is the number of examples and\n",
    "          n_features is the number of features.\n",
    "        y : array-like, shape = [n_examples]\n",
    "          Target values.\n",
    "\n",
    "        Returns\n",
    "        -------\n",
    "        self : object\n",
    "\n",
    "        \"\"\"\n",
    "        rgen = np.random.RandomState(self.random_state)\n",
    "        self.w_ = rgen.normal(loc=0.0, scale=0.01, size=1 + X.shape[1])\n",
    "        self.errors_ = []\n",
    "\n",
    "        for _ in range(self.n_iter):\n",
    "            errors = 0\n",
    "            for xi, target in zip(X, y):\n",
    "                update = self.eta * (target - self.predict(xi))\n",
    "                self.w_[1:] += update * xi\n",
    "                self.w_[0] += update\n",
    "                errors += int(update != 0.0)\n",
    "            self.errors_.append(errors)\n",
    "        return self\n",
    "\n",
    "    def net_input(self, X):\n",
    "        \"\"\"Calculate net input\"\"\"\n",
    "        return np.dot(X, self.w_[1:]) + self.w_[0]\n",
    "\n",
    "    def predict(self, X):\n",
    "        \"\"\"Return class label after unit step\"\"\"\n",
    "        return np.where(self.net_input(X) >= 0.0, 1, -1)"
   ]
  },
  {
   "cell_type": "markdown",
   "metadata": {},
   "source": [
    "## Testando o classificador Perceptron"
   ]
  },
  {
   "cell_type": "code",
   "execution_count": 3,
   "metadata": {
    "scrolled": true
   },
   "outputs": [
    {
     "name": "stdout",
     "output_type": "stream",
     "text": [
      "Resultado da Predição [-1  1 -1]\n"
     ]
    }
   ],
   "source": [
    "\"\"\"Dados de Treinamento \"\"\"\n",
    "X = np.array([[1,1],[2,2],[3,3]])\n",
    "y = np.array([1,1,-1])\n",
    "\n",
    "\"\"\"Criando objeto Perceptron\"\"\"\n",
    "ppn = Perceptron(eta=0.1, n_iter=100)\n",
    "\n",
    "\"\"\"Treinando o modelo\"\"\"\n",
    "ppn.fit(X, y)\n",
    "\n",
    "\"\"\"Testando modelo treinado \"\"\"\n",
    "X_newdata = np.array([[4,4],[2,2],[3,3]])\n",
    "print(\"Resultado da Predição\",ppn.predict(X_newdata));"
   ]
  },
  {
   "cell_type": "markdown",
   "metadata": {},
   "source": [
    "## Questao 1 - Implemente uma função para calcular a acurácia do modelo\n",
    "\n",
    "- Acurácia: dentre todas as classificações, quantas o modelo classificou corretamente?\n",
    "- Para tanto, é realizado um teste para verificar quantas classificações corretas o modelo fez e divide-se pelo total (tamanho do teste)."
   ]
  },
  {
   "cell_type": "code",
   "execution_count": 4,
   "metadata": {},
   "outputs": [],
   "source": [
    "# Métrica de acurácia de um modelo\n",
    "def accuracy(pred: np.ndarray, y_test: np.ndarray): # recebe dois numpy arrays \n",
    "    \n",
    "    # tratamento para garantir que a função iŕa receber dois numpy arrays\n",
    "    if not isinstance(y_test, np.ndarray):\n",
    "        raise TypeError(\"try to get numpy arrays for function's arguments\")\n",
    "    elif not isinstance(pred, np.ndarray):\n",
    "        raise TypeError(\"try to get numpy arrays for function's arguments\")\n",
    "    \n",
    "    # retorna a soma de todos os valores verdadeiros de um teste dividido pelo total de elementos no teste (média)\n",
    "    return np.mean(y_test == pred)"
   ]
  },
  {
   "cell_type": "markdown",
   "metadata": {},
   "source": [
    "## Questao 2 - Implemente um método de validação cruzada para testar\n",
    "\n",
    "- Para realizar a validação cruzada foi utilizado o 'KFold' do 'sklearn'. Basicamente, é feita um separação do dataset em conjunto de treino e conjunto de validação n vezes (número definido de forma arbitrária). Para cada par (conj. treino de conj. teste) é feito o treinamento e validação, respectivamente, utilizando um modelo escolhido.\n",
    "\n",
    "\n",
    "- Para cada par treino-teste também é calculado o score utilizando uma métrica de avaliação. Ao final, é calculada uma média dos scores obtidos."
   ]
  },
  {
   "cell_type": "code",
   "execution_count": 5,
   "metadata": {},
   "outputs": [],
   "source": [
    "\"\"\"\n",
    "Validação cruzada:\n",
    "\n",
    "A função recebe o dataset separado entre atributos e variável alvo (X, y), o modelo (model),\n",
    "uma métrica de avaliação (metric) e o número de folds (n_folds: default 5)\n",
    "\"\"\"\n",
    "\n",
    "def cross_validation(X, y, model, metric, n_folds=5): \n",
    "    kf = KFold(n_folds, shuffle=True, random_state=1) \n",
    "    folds = []\n",
    "    \n",
    "    for rows_train, rows_valid in kf.split(X):\n",
    "\n",
    "        X_train, X_valid = X.iloc[rows_train], X.iloc[rows_valid] # separação do dataset em conjunto de treino e\n",
    "        y_train, y_valid = y.iloc[rows_train], y.iloc[rows_valid] # conjunto de teste\n",
    "        \n",
    "        m = model \n",
    "        m.fit(X_train.values, y_train.values) # treinamento\n",
    "        \n",
    "        pred = m.predict(X_valid) # previsão\n",
    "        \n",
    "        score = metric(y_valid.values, pred) # score da métrica de avaliação escolhida\n",
    "        folds.append(score) # adicionando os scores em um lista\n",
    "        \n",
    "    return np.mean(folds), model # retornando a média dos scores de cada fold e o modelo treinado"
   ]
  },
  {
   "cell_type": "markdown",
   "metadata": {},
   "source": [
    "## Questão 3 - Teste o classificador usando um conjunto de dados linearmente separável e outro não linearmente separável\n",
    "### Sugestão: crie datasets sintéticos com apenas dois atributos para voce poder visualizar a separação das classes"
   ]
  },
  {
   "cell_type": "markdown",
   "metadata": {},
   "source": [
    "#### Observações"
   ]
  },
  {
   "cell_type": "markdown",
   "metadata": {},
   "source": [
    "- Para geração dos datasets sintéticos foi utilizado o 'datasets.make_blobs' do 'sklearn';\n",
    "- Foram gerados 100 amostras para cada dataset (linearmente separável e não linearmente separável) com duas colunas e de forma aleatória;\n",
    "- Gráficos mostram a distribuição dso valores de cada dataset;\n",
    "- Foi realizado validação e teste para cada dataset."
   ]
  },
  {
   "cell_type": "markdown",
   "metadata": {},
   "source": [
    "#### Gráfico do dataset com dados linearmente separável"
   ]
  },
  {
   "cell_type": "code",
   "execution_count": 6,
   "metadata": {},
   "outputs": [
    {
     "data": {
      "image/png": "[encoded data removed]",
      "text/plain": [
       "<Figure size 432x288 with 1 Axes>"
      ]
     },
     "metadata": {
      "needs_background": "light"
     },
     "output_type": "display_data"
    }
   ],
   "source": [
    "# geração e manipulação dos dados\n",
    "features, target = datasets.make_blobs(n_samples=100, centers=2, random_state=1)\n",
    "X, y = pd.DataFrame(features, columns=['x1', 'x2']), pd.DataFrame(target, columns=['y']) # criando dataframes\n",
    "y = y.replace(0,-1) # substitundo o label 0 por -1 para utilização do Perceptron\n",
    "dataset = X.join(y) # unindo os dataframes para plotagem do gráfico\n",
    "\n",
    "# plot\n",
    "plt.scatter(dataset[dataset['y']==-1]['x1'], dataset[dataset['y']==-1]['x2']);\n",
    "plt.scatter(dataset[dataset['y']==1]['x1'], dataset[dataset['y']==1]['x2']);\n",
    "plt.title('Linearmente Separável');\n",
    "plt.xlabel('x1');\n",
    "plt.ylabel('x2');"
   ]
  },
  {
   "cell_type": "markdown",
   "metadata": {},
   "source": [
    "#### Validação"
   ]
  },
  {
   "cell_type": "code",
   "execution_count": 7,
   "metadata": {},
   "outputs": [
    {
     "name": "stdout",
     "output_type": "stream",
     "text": [
      "Resultado da Validação:  0.52\n"
     ]
    }
   ],
   "source": [
    "model = Perceptron()\n",
    "metric = accuracy\n",
    "print(\"Resultado da Validação: \", cross_validation(X, y, model, metric)[0].round(2))"
   ]
  },
  {
   "cell_type": "markdown",
   "metadata": {},
   "source": [
    "#### Teste"
   ]
  },
  {
   "cell_type": "code",
   "execution_count": 8,
   "metadata": {},
   "outputs": [
    {
     "name": "stdout",
     "output_type": "stream",
     "text": [
      "Resultado da Predição:\n",
      " [-1  1 -1 -1  1  1  1  1 -1 -1  1 -1  1 -1  1  1  1 -1 -1  1  1  1  1 -1\n",
      " -1  1  1 -1 -1  1 -1 -1  1 -1  1  1 -1  1  1  1  1  1 -1  1 -1  1 -1 -1\n",
      " -1 -1 -1  1  1  1 -1  1 -1  1 -1 -1 -1  1  1  1  1  1 -1  1 -1 -1  1  1\n",
      "  1 -1 -1 -1  1  1 -1 -1 -1  1 -1  1 -1 -1 -1 -1 -1 -1  1 -1 -1 -1  1  1\n",
      "  1 -1  1 -1]\n"
     ]
    }
   ],
   "source": [
    "\"\"\"Recebendo o modelo treinado\"\"\"\n",
    "ppn = cross_validation(X, y, model, metric)[1]\n",
    "\n",
    "\"\"\"Dados de Teste\"\"\"\n",
    "features, target = datasets.make_blobs(n_samples=100, centers=2, random_state=1)\n",
    "X_test, y_test = pd.DataFrame(features, columns=['x1', 'x2']), pd.DataFrame(target, columns=['y'])\n",
    "y_test = y_test.replace(0,-1)\n",
    "dataset = X_test.join(y_test)\n",
    "\n",
    "\"\"\"Testando modelo treinado\"\"\"\n",
    "print(\"Resultado da Predição:\\n\", ppn.predict(X_test.values))"
   ]
  },
  {
   "cell_type": "code",
   "execution_count": 9,
   "metadata": {},
   "outputs": [
    {
     "name": "stdout",
     "output_type": "stream",
     "text": [
      "Score:  0.5\n"
     ]
    }
   ],
   "source": [
    "print(\"Score: \", accuracy(ppn.predict(X_test.values), y_test.values))"
   ]
  },
  {
   "cell_type": "markdown",
   "metadata": {},
   "source": [
    "#### Gráfico do dataset com dados não linearmente separável"
   ]
  },
  {
   "cell_type": "code",
   "execution_count": 10,
   "metadata": {},
   "outputs": [
    {
     "data": {
      "image/png": "[encoded data removed]",
      "text/plain": [
       "<Figure size 432x288 with 1 Axes>"
      ]
     },
     "metadata": {
      "needs_background": "light"
     },
     "output_type": "display_data"
    }
   ],
   "source": [
    "# geração e manipulação dos dados\n",
    "features, target = datasets.make_blobs(n_samples=100, centers=2, random_state=5)\n",
    "X, y = pd.DataFrame(features, columns=['x1', 'x2']), pd.DataFrame(target, columns=['y']) # criando dataframes\n",
    "y = y.replace(0,-1) # substitundo o label 0 por -1 para utilização do Perceptron\n",
    "dataset = X.join(y) # unindo os dataframes para plotagem do gráfico\n",
    "\n",
    "# plot\n",
    "plt.scatter(dataset[dataset['y']==-1]['x1'], dataset[dataset['y']==-1]['x2']);\n",
    "plt.scatter(dataset[dataset['y']==1]['x1'], dataset[dataset['y']==1]['x2']);\n",
    "plt.title('Não Linearmente Separável');\n",
    "plt.xlabel('x1');\n",
    "plt.ylabel('x2');"
   ]
  },
  {
   "cell_type": "markdown",
   "metadata": {},
   "source": [
    "#### Validação"
   ]
  },
  {
   "cell_type": "code",
   "execution_count": 11,
   "metadata": {},
   "outputs": [
    {
     "name": "stdout",
     "output_type": "stream",
     "text": [
      "Resultado da Validação:  0.48\n"
     ]
    }
   ],
   "source": [
    "model = Perceptron()\n",
    "metric = accuracy\n",
    "print(\"Resultado da Validação: \", cross_validation(X, y, model, metric)[0].round(2))"
   ]
  },
  {
   "cell_type": "code",
   "execution_count": 12,
   "metadata": {},
   "outputs": [
    {
     "name": "stdout",
     "output_type": "stream",
     "text": [
      "Score:  0.5\n"
     ]
    }
   ],
   "source": [
    "# score\n",
    "print(\"Score: \", accuracy(ppn.predict(X_test.values), y_test.values))"
   ]
  },
  {
   "cell_type": "markdown",
   "metadata": {},
   "source": [
    "#### Teste"
   ]
  },
  {
   "cell_type": "code",
   "execution_count": 13,
   "metadata": {},
   "outputs": [
    {
     "name": "stdout",
     "output_type": "stream",
     "text": [
      "Resultado da Predição:\n",
      " [-1 -1  1  1 -1 -1 -1 -1  1 -1 -1  1 -1  1 -1 -1 -1 -1  1 -1 -1 -1 -1 -1\n",
      " -1 -1 -1 -1 -1 -1  1  1 -1 -1 -1 -1 -1 -1 -1 -1 -1 -1 -1 -1 -1 -1  1 -1\n",
      "  1 -1 -1 -1 -1 -1  1 -1  1 -1  1 -1  1 -1 -1 -1 -1 -1  1 -1 -1 -1 -1 -1\n",
      " -1  1 -1 -1 -1 -1 -1  1  1 -1  1 -1 -1 -1  1 -1  1  1 -1 -1  1  1 -1 -1\n",
      " -1  1 -1 -1]\n"
     ]
    }
   ],
   "source": [
    "\"\"\"Recebendo o modelo treinado\"\"\"\n",
    "ppn = cross_validation(X, y, model, metric)[1]\n",
    "\n",
    "\"\"\"Dados de Teste\"\"\"\n",
    "features, target = datasets.make_blobs(n_samples=100, centers=2, random_state=1)\n",
    "X_test, y_test = pd.DataFrame(features, columns=['x1', 'x2']), pd.DataFrame(target, columns=['y'])\n",
    "y_test = y_test.replace(0,-1)\n",
    "dataset = X_test.join(y_test)\n",
    "\n",
    "\"\"\"Testando modelo treinado\"\"\"\n",
    "print(\"Resultado da Predição:\\n\", ppn.predict(X_test.values))"
   ]
  },
  {
   "cell_type": "markdown",
   "metadata": {},
   "source": [
    "## Questao 4 - Treine um classificador perceptron para os dados de seu estudo de caso"
   ]
  },
  {
   "cell_type": "code",
   "execution_count": 14,
   "metadata": {},
   "outputs": [],
   "source": [
    "# Leitura do dataset após pre-processamento (ver o notebook 'spotify_song_features')\n",
    "spotify = pd.read_csv('pp_data.csv')"
   ]
  },
  {
   "cell_type": "code",
   "execution_count": 15,
   "metadata": {},
   "outputs": [],
   "source": [
    "X = spotify.iloc[:,:-1] # features\n",
    "y = spotify.iloc[:,-1] # target"
   ]
  },
  {
   "cell_type": "code",
   "execution_count": 16,
   "metadata": {},
   "outputs": [
    {
     "name": "stdout",
     "output_type": "stream",
     "text": [
      "Resultado da Validação:  0.5\n"
     ]
    }
   ],
   "source": [
    "model = Perceptron()\n",
    "metric = accuracy\n",
    "print('Resultado da Validação: ', cross_validation(X, y, model, metric)[0].round(2))"
   ]
  },
  {
   "cell_type": "code",
   "execution_count": 17,
   "metadata": {},
   "outputs": [
    {
     "data": {
      "text/plain": [
       "<__main__.Perceptron at 0x7fb14f9013d0>"
      ]
     },
     "execution_count": 17,
     "metadata": {},
     "output_type": "execute_result"
    }
   ],
   "source": [
    "cross_validation(X, y, model, metric)[1] # segundo retorno da função que contém o modelo treinado"
   ]
  },
  {
   "cell_type": "markdown",
   "metadata": {},
   "source": [
    "## Extras"
   ]
  },
  {
   "cell_type": "code",
   "execution_count": 18,
   "metadata": {},
   "outputs": [],
   "source": [
    "models = [Perceptron(), KNeighborsClassifier()]\n",
    "metrics = [accuracy, precision_score, recall_score, f1_score]"
   ]
  },
  {
   "cell_type": "markdown",
   "metadata": {},
   "source": [
    "## Aprendizado"
   ]
  },
  {
   "cell_type": "markdown",
   "metadata": {},
   "source": [
    "- Neste trabalho tivemos a oportunidade de aprender"
   ]
  },
  {
   "cell_type": "markdown",
   "metadata": {},
   "source": [
    "## trabalhos futuros"
   ]
  },
  {
   "cell_type": "code",
   "execution_count": null,
   "metadata": {},
   "outputs": [],
   "source": []
  }
 ],
 "metadata": {
  "kernelspec": {
   "display_name": "Python 3",
   "language": "python",
   "name": "python3"
  },
  "language_info": {
   "codemirror_mode": {
    "name": "ipython",
    "version": 3
   },
   "file_extension": ".py",
   "mimetype": "text/x-python",
   "name": "python",
   "nbconvert_exporter": "python",
   "pygments_lexer": "ipython3",
   "version": "3.7.8"
  }
 },
 "nbformat": 4,
 "nbformat_minor": 4
}
