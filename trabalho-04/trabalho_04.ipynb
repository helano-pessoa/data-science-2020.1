{
  "nbformat": 4,
  "nbformat_minor": 0,
  "metadata": {
    "colab": {
      "name": "trabalho-04.ipynb",
      "provenance": [],
      "authorship_tag": "ABX9TyM0n8xXexo4xo/ui4iG1PCL",
      "include_colab_link": true
    },
    "kernelspec": {
      "name": "python3",
      "display_name": "Python 3"
    }
  },
  "cells": [
    {
      "cell_type": "markdown",
      "metadata": {
        "id": "view-in-github",
        "colab_type": "text"
      },
      "source": [
        "<a href=\"https://colab.research.google.com/github/helano-pessoa/data-science/blob/master/trabalho_04.ipynb\" target=\"_parent\"><img src=\"https://colab.research.google.com/assets/colab-badge.svg\" alt=\"Open In Colab\"/></a>"
      ]
    },
    {
      "cell_type": "markdown",
      "metadata": {
        "id": "gBjTKWWEFGyT",
        "colab_type": "text"
      },
      "source": [
        "# Trabalho 4 - Ciência de Dados\n",
        "\n",
        "- Equipe:\n",
        "  - Benedikt Reppin - 501237\n",
        "  - Natália Rios - 408864\n",
        "  - Helano Pessoa - 398861\n"
      ]
    },
    {
      "cell_type": "code",
      "metadata": {
        "id": "sONwwWUS5oWD",
        "colab_type": "code",
        "colab": {}
      },
      "source": [
        "# bibliotecas utilizadas\n",
        "from sklearn.model_selection import train_test_split\n",
        "from sklearn.feature_extraction.text import CountVectorizer, TfidfVectorizer\n",
        "from pandas import read_csv"
      ],
      "execution_count": 1,
      "outputs": []
    },
    {
      "cell_type": "code",
      "metadata": {
        "id": "m12QlUfK9NgL",
        "colab_type": "code",
        "colab": {}
      },
      "source": [
        "# instanciando as classes\n",
        "count_vec, tfid_vec = CountVectorizer(), TfidfVectorizer()"
      ],
      "execution_count": 2,
      "outputs": []
    },
    {
      "cell_type": "code",
      "metadata": {
        "id": "f_AHF1TXF-q1",
        "colab_type": "code",
        "colab": {}
      },
      "source": [
        "# leitura dos dados\n",
        "df = read_csv('noticias.csv')\n",
        "X, y = df['text'], df['label'] "
      ],
      "execution_count": 3,
      "outputs": []
    },
    {
      "cell_type": "code",
      "metadata": {
        "id": "6Y4cbTmgGkdk",
        "colab_type": "code",
        "colab": {}
      },
      "source": [
        "# separando o conjunto de dados para treino e teste: 80-20\n",
        "X_train, X_test, y_train, y_test = train_test_split(X, y, test_size=0.2, random_state=42)"
      ],
      "execution_count": 4,
      "outputs": []
    },
    {
      "cell_type": "code",
      "metadata": {
        "id": "nSFoHFsa_nW4",
        "colab_type": "code",
        "colab": {}
      },
      "source": [
        "# conjunto de treino e teste vetorizados pelo CountVectorizer\n",
        "X_train_count_vec = count_vec.fit_transform(X_train).toarray()\n",
        "X_test_count_vec = count_vec.fit_transform(X_test).toarray()\n",
        "\n",
        "# conjunto de treino e teste vetorizados pelo TfidVectorizer\n",
        "X_train_tfid_vec = tfid_vec.fit_transform(X_train).toarray()\n",
        "X_test_tfid_vec = tfid_vec.fit_transform(X_test).toarray()"
      ],
      "execution_count": 5,
      "outputs": []
    }
  ]
}